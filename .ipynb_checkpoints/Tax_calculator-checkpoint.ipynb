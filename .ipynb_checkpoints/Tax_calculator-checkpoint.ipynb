{
 "cells": [
  {
   "cell_type": "markdown",
   "metadata": {},
   "source": [
    "### Tax calculator function:"
   ]
  },
  {
   "cell_type": "code",
   "execution_count": 1,
   "metadata": {},
   "outputs": [],
   "source": [
    "def tax_calculator(tax_info, income):    \n",
    "    result, lower_limit = 0, 0\n",
    "    tax_info_2 = tax_info + [(float('inf'), tax_info[-1][1])]\n",
    "    for upper_limit, rate in tax_info_2:\n",
    "        if income > upper_limit:\n",
    "            result += (upper_limit - lower_limit) * rate\n",
    "        else:\n",
    "            result += (income - lower_limit) * rate\n",
    "            return result\n",
    "        lower_limit = upper_limit"
   ]
  },
  {
   "cell_type": "code",
   "execution_count": 2,
   "metadata": {},
   "outputs": [
    {
     "data": {
      "text/plain": [
       "31500.0"
      ]
     },
     "execution_count": 2,
     "metadata": {},
     "output_type": "execute_result"
    }
   ],
   "source": [
    "my_tax_info = [(50000, 0.08), (100000, 0.10), (150000, 0.15), (200000, 0.20)]\n",
    "my_income = 225000\n",
    "\n",
    "tax_calculator(my_tax_info, my_income)"
   ]
  },
  {
   "cell_type": "markdown",
   "metadata": {},
   "source": [
    "### Try it in a different way:"
   ]
  },
  {
   "cell_type": "code",
   "execution_count": 40,
   "metadata": {},
   "outputs": [
    {
     "name": "stdout",
     "output_type": "stream",
     "text": [
      "[4000.0, 5000.0, 3000.0, -6000.0, -16000.0]\n"
     ]
    }
   ],
   "source": [
    "my_tax_info = [(50000, 0.08), (100000, 0.10), (150000, 0.15), (200000, 0.20)]\n",
    "my_income = 120000\n",
    "\n",
    "def tax_calculator_2(tax_info, income):\n",
    "    tax_info_2 = [(0,0.08)] + tax_info + [(float('inf'), tax_info[-1][1])]\n",
    "    lb = list(zip(*tax_info_2))[0][:-1]\n",
    "    ub = list(zip(*tax_info_2))[0][1:]\n",
    "    rate = list(zip(*tax_info_2))[1][1:]\n",
    "    all_in_one = zip(lb, ub, rate)\n",
    "    #print(list(all_in_one))\n",
    "    \n",
    "    print([(ub-lb)*rate if income>ub else (income-lb)*rate for lb,ub,rate in all_in_one])\n",
    "    #return sum([(ub-lb)*rate if income>ub else (income-lb)*rate for lb,ub,rate in all_in_one])\n",
    "\n",
    "tax_calculator_2(my_tax_info, my_income)"
   ]
  },
  {
   "cell_type": "markdown",
   "metadata": {},
   "source": [
    "### Calculate some correct inputs/outputs"
   ]
  },
  {
   "cell_type": "code",
   "execution_count": 39,
   "metadata": {},
   "outputs": [
    {
     "data": {
      "text/plain": [
       "31500.0"
      ]
     },
     "execution_count": 39,
     "metadata": {},
     "output_type": "execute_result"
    }
   ],
   "source": [
    "# expected outputs for different income inputs:\n",
    "\n",
    "# my_income = 25000 -->  25000 * 0.08  --> 2000.0   # OK\n",
    "# my_income = 50000 -->  50000 * 0.08  --> 4000.0   # OK\n",
    "# my_income = 75000 -->  50000 * 0.08 + 25000 * 0.1 =  6500.0    # OK\n",
    "# my_income = 100000  -->  50000 * 0.08 + 50000 * 0.1 = 9000.0   # OK\n",
    "# my_income = 125000  -->  50000 * 0.08 + 50000 * 0.1  + 25000 * 0.15 = 12750.0   # OK\n",
    "# my_income = 150000  -->  50000 * 0.08 + 50000 * 0.1  + 50000 * 0.15 = 16500.0   # OK\n",
    "# my_income = 175000  -->  50000 * 0.08 + 50000 * 0.1  + 50000 * 0.15 + 25000 * 0.2 = 21500.0   # OK\n",
    "# my_income = 200000  -->  50000 * 0.08 + 50000 * 0.1  + 50000 * 0.15 + 50000 * 0.2 = 26500.0   # OK\n",
    "# my_income = 225000  -->  50000 * 0.08 + 50000 * 0.1  + 50000 * 0.15 + 75000 * 0.2 = 31500.0   # OK\n",
    "\n",
    "50000 * 0.08 + 50000 * 0.1 + 50000 * 0.15 + 75000 * 0.2"
   ]
  }
 ],
 "metadata": {
  "kernelspec": {
   "display_name": "Python 3",
   "language": "python",
   "name": "python3"
  },
  "language_info": {
   "codemirror_mode": {
    "name": "ipython",
    "version": 3
   },
   "file_extension": ".py",
   "mimetype": "text/x-python",
   "name": "python",
   "nbconvert_exporter": "python",
   "pygments_lexer": "ipython3",
   "version": "3.6.6"
  }
 },
 "nbformat": 4,
 "nbformat_minor": 2
}
